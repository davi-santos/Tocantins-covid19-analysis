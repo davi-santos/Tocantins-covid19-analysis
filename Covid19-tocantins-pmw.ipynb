{
 "cells": [
  {
   "cell_type": "markdown",
   "id": "3c0133f4",
   "metadata": {},
   "source": [
    "# Análise de dados do Covid19 em Palmas-TO e Região\n",
    "\n",
    "## Objetivos Gerais\n",
    "\n",
    "Este projeto tem por objetivo analisar os casos de covid19 no Tocantins e verificar se é possível descobrir informações relevantes sobre o vírus. Para isto, serão analisados dados informados pelo site do ministério da saúde sobre os números de casos do covid e criação de um site para publicação destas informações.\n",
    "\n",
    "## Objetivos específicos\n",
    "\n",
    "* Aquisição da base de dados;\n",
    "* Análise dos dados;\n",
    "* Visualização dos dados;\n",
    "* Criação de um Dash sobre os dados;"
   ]
  },
  {
   "cell_type": "code",
   "execution_count": 4,
   "id": "54712a5b",
   "metadata": {},
   "outputs": [],
   "source": [
    "#Imports\n",
    "import os\n",
    "import sys\n",
    "import numpy as np\n",
    "import pandas as pd\n",
    "import matplotlib.pyplot as plt\n",
    "import seaborn as sns\n",
    "\n",
    "#Padronizar paleta de cores\n",
    "sns.set_palette(palette='YlGnBu')\n",
    "sns.set_style('darkgrid')"
   ]
  },
  {
   "cell_type": "code",
   "execution_count": 12,
   "id": "e6667f3e",
   "metadata": {},
   "outputs": [
    {
     "name": "stdout",
     "output_type": "stream",
     "text": [
      "./data\n"
     ]
    }
   ],
   "source": [
    "#Aquisição dos dados\n",
    "PROJECT_DIR = '.'\n",
    "DATA_DIR = 'data'\n",
    "DATA_PATH = os.path.join(PROJECT_DIR, DATA_DIR)\n",
    "print(DATA_PATH)"
   ]
  },
  {
   "cell_type": "code",
   "execution_count": 36,
   "id": "c34acab2",
   "metadata": {},
   "outputs": [],
   "source": [
    "import glob \n",
    "\n",
    "filenames = glob.glob(DATA_PATH + \"/*.csv\")\n",
    "df = pd.DataFrame()\n",
    "\n",
    "# for loop to iterate all csv files \n",
    "for file in filenames: \n",
    "    df_ = pd.read_csv(file, sep='delimiter')\n",
    "    \n",
    "    # Concatenando dataframes\n",
    "    df = pd.concat([df, df_], axis=0)\n"
   ]
  },
  {
   "cell_type": "code",
   "execution_count": 37,
   "id": "f271d2c3",
   "metadata": {},
   "outputs": [
    {
     "data": {
      "text/html": [
       "<div>\n",
       "<style scoped>\n",
       "    .dataframe tbody tr th:only-of-type {\n",
       "        vertical-align: middle;\n",
       "    }\n",
       "\n",
       "    .dataframe tbody tr th {\n",
       "        vertical-align: top;\n",
       "    }\n",
       "\n",
       "    .dataframe thead th {\n",
       "        text-align: right;\n",
       "    }\n",
       "</style>\n",
       "<table border=\"1\" class=\"dataframe\">\n",
       "  <thead>\n",
       "    <tr style=\"text-align: right;\">\n",
       "      <th></th>\n",
       "      <th>regiao;estado;municipio;coduf;codmun;codRegiaoSaude;nomeRegiaoSaude;data;semanaEpi;populacaoTCU2019;casosAcumulado;casosNovos;obitosAcumulado;obitosNovos;Recuperadosnovos;emAcompanhamentoNovos;interior/metropolitana</th>\n",
       "    </tr>\n",
       "  </thead>\n",
       "  <tbody>\n",
       "    <tr>\n",
       "      <th>0</th>\n",
       "      <td>Brasil;;;76;;;;2021-01-01;53;210147125;7700578...</td>\n",
       "    </tr>\n",
       "    <tr>\n",
       "      <th>1</th>\n",
       "      <td>Brasil;;;76;;;;2021-01-02;53;210147125;7716405...</td>\n",
       "    </tr>\n",
       "    <tr>\n",
       "      <th>2</th>\n",
       "      <td>Brasil;;;76;;;;2021-01-03;1;210147125;7733746;...</td>\n",
       "    </tr>\n",
       "    <tr>\n",
       "      <th>3</th>\n",
       "      <td>Brasil;;;76;;;;2021-01-04;1;210147125;7753752;...</td>\n",
       "    </tr>\n",
       "    <tr>\n",
       "      <th>4</th>\n",
       "      <td>Brasil;;;76;;;;2021-01-05;1;210147125;7810400;...</td>\n",
       "    </tr>\n",
       "  </tbody>\n",
       "</table>\n",
       "</div>"
      ],
      "text/plain": [
       "  regiao;estado;municipio;coduf;codmun;codRegiaoSaude;nomeRegiaoSaude;data;semanaEpi;populacaoTCU2019;casosAcumulado;casosNovos;obitosAcumulado;obitosNovos;Recuperadosnovos;emAcompanhamentoNovos;interior/metropolitana\n",
       "0  Brasil;;;76;;;;2021-01-01;53;210147125;7700578...                                                                                                                                                                     \n",
       "1  Brasil;;;76;;;;2021-01-02;53;210147125;7716405...                                                                                                                                                                     \n",
       "2  Brasil;;;76;;;;2021-01-03;1;210147125;7733746;...                                                                                                                                                                     \n",
       "3  Brasil;;;76;;;;2021-01-04;1;210147125;7753752;...                                                                                                                                                                     \n",
       "4  Brasil;;;76;;;;2021-01-05;1;210147125;7810400;...                                                                                                                                                                     "
      ]
     },
     "execution_count": 37,
     "metadata": {},
     "output_type": "execute_result"
    }
   ],
   "source": [
    "df.head()"
   ]
  },
  {
   "cell_type": "code",
   "execution_count": null,
   "id": "af56338a",
   "metadata": {},
   "outputs": [],
   "source": []
  }
 ],
 "metadata": {
  "kernelspec": {
   "display_name": "Python 3 (ipykernel)",
   "language": "python",
   "name": "python3"
  },
  "language_info": {
   "codemirror_mode": {
    "name": "ipython",
    "version": 3
   },
   "file_extension": ".py",
   "mimetype": "text/x-python",
   "name": "python",
   "nbconvert_exporter": "python",
   "pygments_lexer": "ipython3",
   "version": "3.9.7"
  }
 },
 "nbformat": 4,
 "nbformat_minor": 5
}
