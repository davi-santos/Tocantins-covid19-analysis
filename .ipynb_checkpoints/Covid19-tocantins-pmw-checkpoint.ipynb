{
 "cells": [
  {
   "cell_type": "markdown",
   "id": "3c0133f4",
   "metadata": {},
   "source": [
    "# Análise de dados do Covid19 em Palmas-TO e Região\n",
    "\n",
    "## Objetivos Gerais\n",
    "\n",
    "Este projeto tem por objetivo analisar os casos de covid19 no Tocantins e verificar se é possível descobrir informações relevantes sobre o vírus. Para isto, serão analisados dados informados pelo site do ministério da saúde sobre os números de casos do covid e criação de um site para publicação destas informações.\n",
    "\n",
    "## Objetivos específicos\n",
    "\n",
    "* Aquisição da base de dados;\n",
    "* Análise dos dados;\n",
    "* Visualização dos dados;\n",
    "* Criação de um Dash sobre os dados;"
   ]
  },
  {
   "cell_type": "code",
   "execution_count": 2,
   "id": "54712a5b",
   "metadata": {},
   "outputs": [],
   "source": [
    "#Imports\n",
    "import os\n",
    "import sys\n",
    "import numpy as np\n",
    "import pandas as pd\n",
    "import matplotlib.pyplot as plt\n",
    "import seaborn as sns\n",
    "\n",
    "#Padronizar paleta de cores\n",
    "sns.set_palette(palette='YlGnBu')\n",
    "sns.set_style('darkgrid')"
   ]
  },
  {
   "cell_type": "code",
   "execution_count": 3,
   "id": "e6667f3e",
   "metadata": {},
   "outputs": [],
   "source": [
    "#Aquisição dos dados\n",
    "PROJECT_DIR = '.'\n",
    "DATA_DIR = 'data'\n",
    "DATA_PATH = os.path.join(PROJECT_DIR, DATA_DIR)"
   ]
  },
  {
   "cell_type": "code",
   "execution_count": 4,
   "id": "c34acab2",
   "metadata": {},
   "outputs": [
    {
     "name": "stderr",
     "output_type": "stream",
     "text": [
      "/home/bombadil/anaconda3/lib/python3.9/site-packages/pandas/util/_decorators.py:311: ParserWarning: Falling back to the 'python' engine because the 'c' engine does not support regex separators (separators > 1 char and different from '\\s+' are interpreted as regex); you can avoid this warning by specifying engine='python'.\n",
      "  return func(*args, **kwargs)\n"
     ]
    }
   ],
   "source": [
    "import glob \n",
    "\n",
    "filenames = glob.glob(DATA_PATH + \"/*.csv\")\n",
    "df = pd.DataFrame()\n",
    "\n",
    "# for loop to iterate all csv files \n",
    "for file in filenames: \n",
    "    df_ = pd.read_csv(file, sep=';')\n",
    "    \n",
    "    # Concatenando dataframes\n",
    "    df = pd.concat([df, df_], axis=0)\n"
   ]
  },
  {
   "cell_type": "code",
   "execution_count": 5,
   "id": "f271d2c3",
   "metadata": {},
   "outputs": [
    {
     "data": {
      "text/html": [
       "<div>\n",
       "<style scoped>\n",
       "    .dataframe tbody tr th:only-of-type {\n",
       "        vertical-align: middle;\n",
       "    }\n",
       "\n",
       "    .dataframe tbody tr th {\n",
       "        vertical-align: top;\n",
       "    }\n",
       "\n",
       "    .dataframe thead th {\n",
       "        text-align: right;\n",
       "    }\n",
       "</style>\n",
       "<table border=\"1\" class=\"dataframe\">\n",
       "  <thead>\n",
       "    <tr style=\"text-align: right;\">\n",
       "      <th></th>\n",
       "      <th>regiao;estado;municipio;coduf;codmun;codRegiaoSaude;nomeRegiaoSaude;data;semanaEpi;populacaoTCU2019;casosAcumulado;casosNovos;obitosAcumulado;obitosNovos;Recuperadosnovos;emAcompanhamentoNovos;interior/metropolitana</th>\n",
       "      <th>;regiao;estado;municipio;coduf;codmun;codRegiaoSaude;nomeRegiaoSaude;data;semanaEpi;populacaoTCU2019;casosAcumulado;casosNovos;obitosAcumulado;obitosNovos;Recuperadosnovos;emAcompanhamentoNovos;interior/metropolitana;Unnamed: 0</th>\n",
       "    </tr>\n",
       "  </thead>\n",
       "  <tbody>\n",
       "    <tr>\n",
       "      <th>0</th>\n",
       "      <td>Brasil;;;76;;;;2021-07-01;26;210147125;1862230...</td>\n",
       "      <td>NaN</td>\n",
       "    </tr>\n",
       "    <tr>\n",
       "      <th>1</th>\n",
       "      <td>Brasil;;;76;;;;2021-07-02;26;210147125;1868746...</td>\n",
       "      <td>NaN</td>\n",
       "    </tr>\n",
       "    <tr>\n",
       "      <th>2</th>\n",
       "      <td>Brasil;;;76;;;;2021-07-03;26;210147125;1874202...</td>\n",
       "      <td>NaN</td>\n",
       "    </tr>\n",
       "    <tr>\n",
       "      <th>3</th>\n",
       "      <td>Brasil;;;76;;;;2021-07-04;27;210147125;1876980...</td>\n",
       "      <td>NaN</td>\n",
       "    </tr>\n",
       "    <tr>\n",
       "      <th>4</th>\n",
       "      <td>Brasil;;;76;;;;2021-07-05;27;210147125;1879251...</td>\n",
       "      <td>NaN</td>\n",
       "    </tr>\n",
       "  </tbody>\n",
       "</table>\n",
       "</div>"
      ],
      "text/plain": [
       "  regiao;estado;municipio;coduf;codmun;codRegiaoSaude;nomeRegiaoSaude;data;semanaEpi;populacaoTCU2019;casosAcumulado;casosNovos;obitosAcumulado;obitosNovos;Recuperadosnovos;emAcompanhamentoNovos;interior/metropolitana  \\\n",
       "0  Brasil;;;76;;;;2021-07-01;26;210147125;1862230...                                                                                                                                                                        \n",
       "1  Brasil;;;76;;;;2021-07-02;26;210147125;1868746...                                                                                                                                                                        \n",
       "2  Brasil;;;76;;;;2021-07-03;26;210147125;1874202...                                                                                                                                                                        \n",
       "3  Brasil;;;76;;;;2021-07-04;27;210147125;1876980...                                                                                                                                                                        \n",
       "4  Brasil;;;76;;;;2021-07-05;27;210147125;1879251...                                                                                                                                                                        \n",
       "\n",
       "  ;regiao;estado;municipio;coduf;codmun;codRegiaoSaude;nomeRegiaoSaude;data;semanaEpi;populacaoTCU2019;casosAcumulado;casosNovos;obitosAcumulado;obitosNovos;Recuperadosnovos;emAcompanhamentoNovos;interior/metropolitana;Unnamed: 0  \n",
       "0                                                NaN                                                                                                                                                                                   \n",
       "1                                                NaN                                                                                                                                                                                   \n",
       "2                                                NaN                                                                                                                                                                                   \n",
       "3                                                NaN                                                                                                                                                                                   \n",
       "4                                                NaN                                                                                                                                                                                   "
      ]
     },
     "execution_count": 5,
     "metadata": {},
     "output_type": "execute_result"
    }
   ],
   "source": [
    "df.head()"
   ]
  },
  {
   "cell_type": "code",
   "execution_count": null,
   "id": "af56338a",
   "metadata": {},
   "outputs": [],
   "source": []
  }
 ],
 "metadata": {
  "kernelspec": {
   "display_name": "Python 3 (ipykernel)",
   "language": "python",
   "name": "python3"
  },
  "language_info": {
   "codemirror_mode": {
    "name": "ipython",
    "version": 3
   },
   "file_extension": ".py",
   "mimetype": "text/x-python",
   "name": "python",
   "nbconvert_exporter": "python",
   "pygments_lexer": "ipython3",
   "version": "3.9.7"
  }
 },
 "nbformat": 4,
 "nbformat_minor": 5
}
